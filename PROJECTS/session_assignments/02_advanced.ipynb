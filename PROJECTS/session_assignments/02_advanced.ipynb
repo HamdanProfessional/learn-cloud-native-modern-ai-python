{
  "nbformat": 4,
  "nbformat_minor": 0,
  "metadata": {
    "colab": {
      "provenance": []
    },
    "kernelspec": {
      "name": "python3",
      "display_name": "Python 3"
    },
    "language_info": {
      "name": "python"
    }
  },
  "cells": [
    {
      "cell_type": "code",
      "execution_count": 1,
      "metadata": {
        "colab": {
          "base_uri": "https://localhost:8080/"
        },
        "id": "iHY1zS6Brp2S",
        "outputId": "584ff610-dfb8-443c-ad07-5d09aabc854e"
      },
      "outputs": [
        {
          "output_type": "stream",
          "name": "stdout",
          "text": [
            "Welcome to the High-Low Game!\n",
            "--------------------------------\n",
            "Round 1\n",
            "Your number is 3\n",
            "Do you think your number is higher or lower than the computer's?: 5\n",
            "Please enter either 'higher' or 'lower'.\n",
            "Do you think your number is higher or lower than the computer's?: higher\n",
            "Aww, that's incorrect. The computer's number was 68\n",
            "Your score is now 0\n",
            "\n",
            "Round 2\n",
            "Your number is 83\n",
            "Do you think your number is higher or lower than the computer's?: lower\n",
            "Aww, that's incorrect. The computer's number was 48\n",
            "Your score is now 0\n",
            "\n",
            "Round 3\n",
            "Your number is 30\n",
            "Do you think your number is higher or lower than the computer's?: higher\n",
            "You were right! The computer's number was 5\n",
            "Your score is now 1\n",
            "\n",
            "Round 4\n",
            "Your number is 97\n",
            "Do you think your number is higher or lower than the computer's?: higher\n",
            "Aww, that's incorrect. The computer's number was 98\n",
            "Your score is now 1\n",
            "\n",
            "Round 5\n",
            "Your number is 26\n",
            "Do you think your number is higher or lower than the computer's?: lower\n",
            "You were right! The computer's number was 59\n",
            "Your score is now 2\n",
            "\n",
            "Thanks for playing!\n",
            "Your final score is 2\n",
            "Good job, you played really well!\n"
          ]
        }
      ],
      "source": [
        "## url(https://github.com/HamdanProfessional/learn-cloud-native-modern-ai-python/tree/main/PROJECTS/session_assignments/02_advanced/Control%20Flow%20for%20Console)\n",
        "import random\n",
        "NUM_ROUNDS = 5\n",
        "def main():\n",
        "    print(\"Welcome to the High-Low Game!\")\n",
        "    print(\"--------------------------------\")\n",
        "    score = 0\n",
        "    for round_number in range(1, NUM_ROUNDS + 1):\n",
        "        computer_number = random.randint(1, 100)\n",
        "        user_number = random.randint(1, 100)\n",
        "        print(f\"Round {round_number}\")\n",
        "        print(f\"Your number is {user_number}\")\n",
        "        user_guess = input(\"Do you think your number is higher or lower than the computer's?: \").strip().lower()\n",
        "        while user_guess not in [\"higher\", \"lower\"]:\n",
        "            print(\"Please enter either 'higher' or 'lower'.\")\n",
        "            user_guess = input(\"Do you think your number is higher or lower than the computer's?: \").strip().lower()\n",
        "        if (user_number > computer_number and user_guess == \"higher\") or \\\n",
        "           (user_number < computer_number and user_guess == \"lower\"):\n",
        "            print(f\"You were right! The computer's number was {computer_number}\")\n",
        "            score += 1\n",
        "        else:\n",
        "            print(f\"Aww, that's incorrect. The computer's number was {computer_number}\")\n",
        "        print(f\"Your score is now {score}\\n\")\n",
        "    print(\"Thanks for playing!\")\n",
        "    print(f\"Your final score is {score}\")\n",
        "    if score == NUM_ROUNDS:\n",
        "        print(\"Wow! You played perfectly!\")\n",
        "    elif score >= NUM_ROUNDS // 2:\n",
        "        print(\"Good job, you played really well!\")\n",
        "    else:\n",
        "        print(\"Better luck next time!\")\n",
        "if __name__ == '__main__':\n",
        "    main()\n"
      ]
    },
    {
      "cell_type": "code",
      "source": [
        "## url(https://github.com/HamdanProfessional/learn-cloud-native-modern-ai-python/tree/main/PROJECTS/session_assignments/02_advanced/Intro%20to%20Python)\n",
        "def main():\n",
        "    MERCURY_GRAVITY = 0.376\n",
        "    VENUS_GRAVITY = 0.889\n",
        "    MARS_GRAVITY = 0.378\n",
        "    JUPITER_GRAVITY = 2.36\n",
        "    SATURN_GRAVITY = 1.081\n",
        "    URANUS_GRAVITY = 0.815\n",
        "    NEPTUNE_GRAVITY = 1.14\n",
        "    gravity_constants = {\n",
        "        \"Mercury\": MERCURY_GRAVITY,\n",
        "        \"Venus\": VENUS_GRAVITY,\n",
        "        \"Mars\": MARS_GRAVITY,\n",
        "        \"Jupiter\": JUPITER_GRAVITY,\n",
        "        \"Saturn\": SATURN_GRAVITY,\n",
        "        \"Uranus\": URANUS_GRAVITY,\n",
        "        \"Neptune\": NEPTUNE_GRAVITY\n",
        "    }\n",
        "    earth_weight = float(input(\"Enter a weight on Earth: \"))\n",
        "    planet_name = input(\"Enter a planet: \")\n",
        "    gravity_constant = gravity_constants.get(planet_name)\n",
        "    if gravity_constant is not None:\n",
        "        planetary_weight = earth_weight * gravity_constant\n",
        "        print(f\"The equivalent weight on {planet_name}: {round(planetary_weight, 2)}\")\n",
        "    else:\n",
        "        print(\"Invalid planet name.\")\n",
        "\n",
        "if __name__ == \"__main__\":\n",
        "    main()\n"
      ],
      "metadata": {
        "colab": {
          "base_uri": "https://localhost:8080/"
        },
        "id": "CaDOYjafsMjd",
        "outputId": "be7f76e9-31ce-4df4-b63f-d2ac7f2d5eaa"
      },
      "execution_count": 2,
      "outputs": [
        {
          "output_type": "stream",
          "name": "stdout",
          "text": [
            "Enter a weight on Earth: 5\n",
            "Enter a planet: Mars\n",
            "The equivalent weight on Mars: 1.89\n"
          ]
        }
      ]
    },
    {
      "cell_type": "code",
      "source": [
        "## url(https://github.com/HamdanProfessional/learn-cloud-native-modern-ai-python/tree/main/PROJECTS/session_assignments/02_advanced/Lists%20and%20Dicts)\n",
        "def main():\n",
        "    fruit_list = ['apple', 'banana', 'orange', 'grape', 'pineapple']\n",
        "    print(\"Length of fruit_list:\", len(fruit_list))\n",
        "    fruit_list.append('mango')\n",
        "    print(\"Updated fruit_list:\", fruit_list)\n",
        "if __name__ == \"__main__\":\n",
        "    main()\n",
        "def access_element(my_list, index):\n",
        "    \"\"\"Access and return the element at the specified index.\"\"\"\n",
        "    if 0 <= index < len(my_list):\n",
        "        return my_list[index]\n",
        "    else:\n",
        "        return \"Index out of range.\"\n",
        "def modify_element(my_list, index, new_value):\n",
        "    \"\"\"Modify the element at the specified index with the new value.\"\"\"\n",
        "    if 0 <= index < len(my_list):\n",
        "        my_list[index] = new_value\n",
        "        return my_list\n",
        "    else:\n",
        "        return \"Index out of range.\"\n",
        "def slice_list(my_list, start_index, end_index):\n",
        "    \"\"\"Return a new list containing elements from start_index to end_index.\"\"\"\n",
        "    if start_index < 0 or end_index > len(my_list):\n",
        "        return \"Index out of range.\"\n",
        "    return my_list[start_index:end_index]\n",
        "def main():\n",
        "    my_list = ['Wrong', 'apple', 'Wrong', 'banana', 'orange', 'Wrong']\n",
        "    while True:\n",
        "        print(\"\\nCurrent List:\", my_list)\n",
        "        print(\"Select an operation:\")\n",
        "        print(\"1. Access an element\")\n",
        "        print(\"2. Modify an element\")\n",
        "        print(\"3. Slice the list\")\n",
        "        print(\"4. Exit\")\n",
        "        choice = input(\"Enter your choice (1-4): \")\n",
        "        if choice == '1':\n",
        "            index = int(input(\"Enter the index to access: \"))\n",
        "            result = access_element(my_list, index)\n",
        "            print(\"Result:\", result)\n",
        "        elif choice == '2':\n",
        "            index = int(input(\"Enter the index to modify: \"))\n",
        "            new_value = input(\"Enter the new value: \")\n",
        "            result = modify_element(my_list, index, new_value)\n",
        "            if isinstance(result, list):\n",
        "                print(\"Updated List:\", result)\n",
        "            else:\n",
        "                print(\"Result:\", result)\n",
        "        elif choice == '3':\n",
        "            start_index = int(input(\"Enter the start index for slicing: \"))\n",
        "            end_index = int(input(\"Enter the end index for slicing: \"))\n",
        "            result = slice_list(my_list, start_index, end_index)\n",
        "            print(\"Sliced List:\", result)\n",
        "        elif choice == '4':\n",
        "            print(\"Exiting the game.\")\n",
        "            break\n",
        "        else:\n",
        "            print(\"Invalid choice. Please try again.\")\n",
        "if __name__ == \"__main__\":\n",
        "    main()"
      ],
      "metadata": {
        "colab": {
          "base_uri": "https://localhost:8080/",
          "height": 860
        },
        "id": "Uu_hgWlZsvTj",
        "outputId": "ff6bdbc4-e66d-4d6a-d395-0be57b00daaa"
      },
      "execution_count": 2,
      "outputs": [
        {
          "output_type": "stream",
          "name": "stdout",
          "text": [
            "Length of fruit_list: 5\n",
            "Updated fruit_list: ['apple', 'banana', 'orange', 'grape', 'pineapple', 'mango']\n",
            "\n",
            "Current List: [5, 'apple', 3.14, 'banana', 'orange']\n",
            "Select an operation:\n",
            "1. Access an element\n",
            "2. Modify an element\n",
            "3. Slice the list\n",
            "4. Exit\n",
            "Enter your choice (1-4): 2\n",
            "Enter the index to modify: 2\n",
            "Enter the new value: mango\n",
            "Updated List: [5, 'apple', 'mango', 'banana', 'orange']\n",
            "\n",
            "Current List: [5, 'apple', 'mango', 'banana', 'orange']\n",
            "Select an operation:\n",
            "1. Access an element\n",
            "2. Modify an element\n",
            "3. Slice the list\n",
            "4. Exit\n",
            "Enter your choice (1-4): 2\n",
            "Enter the index to modify: 3\n",
            "Enter the new value: banana2\n",
            "Updated List: [5, 'apple', 'mango', 'banana2', 'orange']\n",
            "\n",
            "Current List: [5, 'apple', 'mango', 'banana2', 'orange']\n",
            "Select an operation:\n",
            "1. Access an element\n",
            "2. Modify an element\n",
            "3. Slice the list\n",
            "4. Exit\n"
          ]
        },
        {
          "output_type": "error",
          "ename": "KeyboardInterrupt",
          "evalue": "Interrupted by user",
          "traceback": [
            "\u001b[0;31m---------------------------------------------------------------------------\u001b[0m",
            "\u001b[0;31mKeyboardInterrupt\u001b[0m                         Traceback (most recent call last)",
            "\u001b[0;32m<ipython-input-2-5f616eb141df>\u001b[0m in \u001b[0;36m<cell line: 59>\u001b[0;34m()\u001b[0m\n\u001b[1;32m     58\u001b[0m             \u001b[0mprint\u001b[0m\u001b[0;34m(\u001b[0m\u001b[0;34m\"Invalid choice. Please try again.\"\u001b[0m\u001b[0;34m)\u001b[0m\u001b[0;34m\u001b[0m\u001b[0;34m\u001b[0m\u001b[0m\n\u001b[1;32m     59\u001b[0m \u001b[0;32mif\u001b[0m \u001b[0m__name__\u001b[0m \u001b[0;34m==\u001b[0m \u001b[0;34m\"__main__\"\u001b[0m\u001b[0;34m:\u001b[0m\u001b[0;34m\u001b[0m\u001b[0;34m\u001b[0m\u001b[0m\n\u001b[0;32m---> 60\u001b[0;31m     \u001b[0mmain\u001b[0m\u001b[0;34m(\u001b[0m\u001b[0;34m)\u001b[0m\u001b[0;34m\u001b[0m\u001b[0;34m\u001b[0m\u001b[0m\n\u001b[0m",
            "\u001b[0;32m<ipython-input-2-5f616eb141df>\u001b[0m in \u001b[0;36mmain\u001b[0;34m()\u001b[0m\n\u001b[1;32m     34\u001b[0m         \u001b[0mprint\u001b[0m\u001b[0;34m(\u001b[0m\u001b[0;34m\"3. Slice the list\"\u001b[0m\u001b[0;34m)\u001b[0m\u001b[0;34m\u001b[0m\u001b[0;34m\u001b[0m\u001b[0m\n\u001b[1;32m     35\u001b[0m         \u001b[0mprint\u001b[0m\u001b[0;34m(\u001b[0m\u001b[0;34m\"4. Exit\"\u001b[0m\u001b[0;34m)\u001b[0m\u001b[0;34m\u001b[0m\u001b[0;34m\u001b[0m\u001b[0m\n\u001b[0;32m---> 36\u001b[0;31m         \u001b[0mchoice\u001b[0m \u001b[0;34m=\u001b[0m \u001b[0minput\u001b[0m\u001b[0;34m(\u001b[0m\u001b[0;34m\"Enter your choice (1-4): \"\u001b[0m\u001b[0;34m)\u001b[0m\u001b[0;34m\u001b[0m\u001b[0;34m\u001b[0m\u001b[0m\n\u001b[0m\u001b[1;32m     37\u001b[0m         \u001b[0;32mif\u001b[0m \u001b[0mchoice\u001b[0m \u001b[0;34m==\u001b[0m \u001b[0;34m'1'\u001b[0m\u001b[0;34m:\u001b[0m\u001b[0;34m\u001b[0m\u001b[0;34m\u001b[0m\u001b[0m\n\u001b[1;32m     38\u001b[0m             \u001b[0mindex\u001b[0m \u001b[0;34m=\u001b[0m \u001b[0mint\u001b[0m\u001b[0;34m(\u001b[0m\u001b[0minput\u001b[0m\u001b[0;34m(\u001b[0m\u001b[0;34m\"Enter the index to access: \"\u001b[0m\u001b[0;34m)\u001b[0m\u001b[0;34m)\u001b[0m\u001b[0;34m\u001b[0m\u001b[0;34m\u001b[0m\u001b[0m\n",
            "\u001b[0;32m/usr/local/lib/python3.10/dist-packages/ipykernel/kernelbase.py\u001b[0m in \u001b[0;36mraw_input\u001b[0;34m(self, prompt)\u001b[0m\n\u001b[1;32m    849\u001b[0m                 \u001b[0;34m\"raw_input was called, but this frontend does not support input requests.\"\u001b[0m\u001b[0;34m\u001b[0m\u001b[0;34m\u001b[0m\u001b[0m\n\u001b[1;32m    850\u001b[0m             )\n\u001b[0;32m--> 851\u001b[0;31m         return self._input_request(str(prompt),\n\u001b[0m\u001b[1;32m    852\u001b[0m             \u001b[0mself\u001b[0m\u001b[0;34m.\u001b[0m\u001b[0m_parent_ident\u001b[0m\u001b[0;34m,\u001b[0m\u001b[0;34m\u001b[0m\u001b[0;34m\u001b[0m\u001b[0m\n\u001b[1;32m    853\u001b[0m             \u001b[0mself\u001b[0m\u001b[0;34m.\u001b[0m\u001b[0m_parent_header\u001b[0m\u001b[0;34m,\u001b[0m\u001b[0;34m\u001b[0m\u001b[0;34m\u001b[0m\u001b[0m\n",
            "\u001b[0;32m/usr/local/lib/python3.10/dist-packages/ipykernel/kernelbase.py\u001b[0m in \u001b[0;36m_input_request\u001b[0;34m(self, prompt, ident, parent, password)\u001b[0m\n\u001b[1;32m    893\u001b[0m             \u001b[0;32mexcept\u001b[0m \u001b[0mKeyboardInterrupt\u001b[0m\u001b[0;34m:\u001b[0m\u001b[0;34m\u001b[0m\u001b[0;34m\u001b[0m\u001b[0m\n\u001b[1;32m    894\u001b[0m                 \u001b[0;31m# re-raise KeyboardInterrupt, to truncate traceback\u001b[0m\u001b[0;34m\u001b[0m\u001b[0;34m\u001b[0m\u001b[0m\n\u001b[0;32m--> 895\u001b[0;31m                 \u001b[0;32mraise\u001b[0m \u001b[0mKeyboardInterrupt\u001b[0m\u001b[0;34m(\u001b[0m\u001b[0;34m\"Interrupted by user\"\u001b[0m\u001b[0;34m)\u001b[0m \u001b[0;32mfrom\u001b[0m \u001b[0;32mNone\u001b[0m\u001b[0;34m\u001b[0m\u001b[0;34m\u001b[0m\u001b[0m\n\u001b[0m\u001b[1;32m    896\u001b[0m             \u001b[0;32mexcept\u001b[0m \u001b[0mException\u001b[0m \u001b[0;32mas\u001b[0m \u001b[0me\u001b[0m\u001b[0;34m:\u001b[0m\u001b[0;34m\u001b[0m\u001b[0;34m\u001b[0m\u001b[0m\n\u001b[1;32m    897\u001b[0m                 \u001b[0mself\u001b[0m\u001b[0;34m.\u001b[0m\u001b[0mlog\u001b[0m\u001b[0;34m.\u001b[0m\u001b[0mwarning\u001b[0m\u001b[0;34m(\u001b[0m\u001b[0;34m\"Invalid Message:\"\u001b[0m\u001b[0;34m,\u001b[0m \u001b[0mexc_info\u001b[0m\u001b[0;34m=\u001b[0m\u001b[0;32mTrue\u001b[0m\u001b[0;34m)\u001b[0m\u001b[0;34m\u001b[0m\u001b[0;34m\u001b[0m\u001b[0m\n",
            "\u001b[0;31mKeyboardInterrupt\u001b[0m: Interrupted by user"
          ]
        }
      ]
    },
    {
      "cell_type": "code",
      "source": [],
      "metadata": {
        "id": "_yvb3pP4EE6D"
      },
      "execution_count": null,
      "outputs": []
    }
  ]
}